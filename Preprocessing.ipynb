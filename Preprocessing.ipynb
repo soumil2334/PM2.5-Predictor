{
 "cells": [
  {
   "cell_type": "code",
   "execution_count": 1,
   "id": "d5531b3b-9186-4f18-a2de-02382dfb29b3",
   "metadata": {},
   "outputs": [],
   "source": [
    "import pandas as pd"
   ]
  },
  {
   "cell_type": "code",
   "execution_count": 2,
   "id": "402230b8-c90c-4dde-aea2-d2c247852599",
   "metadata": {},
   "outputs": [],
   "source": [
    "df_AOD=pd.read_csv(\"AOD.csv\")\n",
    "df_temp=pd.read_csv(\"Temperature.csv\")\n",
    "df_RH=pd.read_csv(\"Relative_humidity.csv\")\n",
    "df_PM=pd.read_csv(\"PM2.5.csv\")"
   ]
  },
  {
   "cell_type": "code",
   "execution_count": 3,
   "id": "8344336e-2bdd-4df6-b2d5-38f9d146039e",
   "metadata": {},
   "outputs": [
    {
     "data": {
      "text/html": [
       "<div>\n",
       "<style scoped>\n",
       "    .dataframe tbody tr th:only-of-type {\n",
       "        vertical-align: middle;\n",
       "    }\n",
       "\n",
       "    .dataframe tbody tr th {\n",
       "        vertical-align: top;\n",
       "    }\n",
       "\n",
       "    .dataframe thead th {\n",
       "        text-align: right;\n",
       "    }\n",
       "</style>\n",
       "<table border=\"1\" class=\"dataframe\">\n",
       "  <thead>\n",
       "    <tr style=\"text-align: right;\">\n",
       "      <th></th>\n",
       "      <th>lat</th>\n",
       "      <th>lon</th>\n",
       "      <th>latv</th>\n",
       "      <th>lonv</th>\n",
       "      <th>Aerosol_Optical_Depth(Land)</th>\n",
       "      <th>lat_bnds</th>\n",
       "      <th>lon_bnds</th>\n",
       "    </tr>\n",
       "  </thead>\n",
       "  <tbody>\n",
       "    <tr>\n",
       "      <th>0</th>\n",
       "      <td>-82.5</td>\n",
       "      <td>-177.5</td>\n",
       "      <td>0</td>\n",
       "      <td>0</td>\n",
       "      <td>NaN</td>\n",
       "      <td>-83.0</td>\n",
       "      <td>-178.0</td>\n",
       "    </tr>\n",
       "    <tr>\n",
       "      <th>1</th>\n",
       "      <td>-82.5</td>\n",
       "      <td>-177.5</td>\n",
       "      <td>0</td>\n",
       "      <td>1</td>\n",
       "      <td>NaN</td>\n",
       "      <td>-83.0</td>\n",
       "      <td>-177.0</td>\n",
       "    </tr>\n",
       "    <tr>\n",
       "      <th>2</th>\n",
       "      <td>-82.5</td>\n",
       "      <td>-177.5</td>\n",
       "      <td>1</td>\n",
       "      <td>0</td>\n",
       "      <td>NaN</td>\n",
       "      <td>-82.0</td>\n",
       "      <td>-178.0</td>\n",
       "    </tr>\n",
       "    <tr>\n",
       "      <th>3</th>\n",
       "      <td>-82.5</td>\n",
       "      <td>-177.5</td>\n",
       "      <td>1</td>\n",
       "      <td>1</td>\n",
       "      <td>NaN</td>\n",
       "      <td>-82.0</td>\n",
       "      <td>-177.0</td>\n",
       "    </tr>\n",
       "    <tr>\n",
       "      <th>4</th>\n",
       "      <td>-82.5</td>\n",
       "      <td>-176.5</td>\n",
       "      <td>0</td>\n",
       "      <td>0</td>\n",
       "      <td>NaN</td>\n",
       "      <td>-83.0</td>\n",
       "      <td>-177.0</td>\n",
       "    </tr>\n",
       "  </tbody>\n",
       "</table>\n",
       "</div>"
      ],
      "text/plain": [
       "    lat    lon  latv  lonv  Aerosol_Optical_Depth(Land)  lat_bnds  lon_bnds\n",
       "0 -82.5 -177.5     0     0                          NaN     -83.0    -178.0\n",
       "1 -82.5 -177.5     0     1                          NaN     -83.0    -177.0\n",
       "2 -82.5 -177.5     1     0                          NaN     -82.0    -178.0\n",
       "3 -82.5 -177.5     1     1                          NaN     -82.0    -177.0\n",
       "4 -82.5 -176.5     0     0                          NaN     -83.0    -177.0"
      ]
     },
     "execution_count": 3,
     "metadata": {},
     "output_type": "execute_result"
    }
   ],
   "source": [
    "df_AOD.head()"
   ]
  },
  {
   "cell_type": "code",
   "execution_count": 4,
   "id": "50bcdc80-0490-4b7c-a7e9-d91d3fe9d12a",
   "metadata": {},
   "outputs": [
    {
     "data": {
      "text/html": [
       "<div>\n",
       "<style scoped>\n",
       "    .dataframe tbody tr th:only-of-type {\n",
       "        vertical-align: middle;\n",
       "    }\n",
       "\n",
       "    .dataframe tbody tr th {\n",
       "        vertical-align: top;\n",
       "    }\n",
       "\n",
       "    .dataframe thead th {\n",
       "        text-align: right;\n",
       "    }\n",
       "</style>\n",
       "<table border=\"1\" class=\"dataframe\">\n",
       "  <thead>\n",
       "    <tr style=\"text-align: right;\">\n",
       "      <th></th>\n",
       "      <th>Aerosol_Optical_Depth(Land)</th>\n",
       "      <th>lat_bnds</th>\n",
       "      <th>lon_bnds</th>\n",
       "    </tr>\n",
       "  </thead>\n",
       "  <tbody>\n",
       "    <tr>\n",
       "      <th>0</th>\n",
       "      <td>NaN</td>\n",
       "      <td>-83.0</td>\n",
       "      <td>-178.0</td>\n",
       "    </tr>\n",
       "    <tr>\n",
       "      <th>1</th>\n",
       "      <td>NaN</td>\n",
       "      <td>-83.0</td>\n",
       "      <td>-177.0</td>\n",
       "    </tr>\n",
       "    <tr>\n",
       "      <th>2</th>\n",
       "      <td>NaN</td>\n",
       "      <td>-82.0</td>\n",
       "      <td>-178.0</td>\n",
       "    </tr>\n",
       "    <tr>\n",
       "      <th>3</th>\n",
       "      <td>NaN</td>\n",
       "      <td>-82.0</td>\n",
       "      <td>-177.0</td>\n",
       "    </tr>\n",
       "    <tr>\n",
       "      <th>4</th>\n",
       "      <td>NaN</td>\n",
       "      <td>-83.0</td>\n",
       "      <td>-177.0</td>\n",
       "    </tr>\n",
       "  </tbody>\n",
       "</table>\n",
       "</div>"
      ],
      "text/plain": [
       "   Aerosol_Optical_Depth(Land)  lat_bnds  lon_bnds\n",
       "0                          NaN     -83.0    -178.0\n",
       "1                          NaN     -83.0    -177.0\n",
       "2                          NaN     -82.0    -178.0\n",
       "3                          NaN     -82.0    -177.0\n",
       "4                          NaN     -83.0    -177.0"
      ]
     },
     "execution_count": 4,
     "metadata": {},
     "output_type": "execute_result"
    }
   ],
   "source": [
    "df_AOD=df_AOD.drop(['lat', 'lon', 'latv', 'lonv'], axis=1, inplace=False)\n",
    "df_AOD.head()"
   ]
  },
  {
   "cell_type": "code",
   "execution_count": 5,
   "id": "84853cf8-91b8-4a74-9c06-57752d651909",
   "metadata": {},
   "outputs": [
    {
     "data": {
      "text/html": [
       "<div>\n",
       "<style scoped>\n",
       "    .dataframe tbody tr th:only-of-type {\n",
       "        vertical-align: middle;\n",
       "    }\n",
       "\n",
       "    .dataframe tbody tr th {\n",
       "        vertical-align: top;\n",
       "    }\n",
       "\n",
       "    .dataframe thead th {\n",
       "        text-align: right;\n",
       "    }\n",
       "</style>\n",
       "<table border=\"1\" class=\"dataframe\">\n",
       "  <thead>\n",
       "    <tr style=\"text-align: right;\">\n",
       "      <th></th>\n",
       "      <th>lat</th>\n",
       "      <th>lon</th>\n",
       "      <th>latv</th>\n",
       "      <th>lonv</th>\n",
       "      <th>PM2.5</th>\n",
       "      <th>lat_bnds</th>\n",
       "      <th>lon_bnds</th>\n",
       "    </tr>\n",
       "  </thead>\n",
       "  <tbody>\n",
       "    <tr>\n",
       "      <th>0</th>\n",
       "      <td>-82.5</td>\n",
       "      <td>-177.500</td>\n",
       "      <td>0</td>\n",
       "      <td>0</td>\n",
       "      <td>7.630605e-10</td>\n",
       "      <td>-82.75</td>\n",
       "      <td>-177.8125</td>\n",
       "    </tr>\n",
       "    <tr>\n",
       "      <th>1</th>\n",
       "      <td>-82.5</td>\n",
       "      <td>-177.500</td>\n",
       "      <td>0</td>\n",
       "      <td>1</td>\n",
       "      <td>7.630605e-10</td>\n",
       "      <td>-82.75</td>\n",
       "      <td>-177.1875</td>\n",
       "    </tr>\n",
       "    <tr>\n",
       "      <th>2</th>\n",
       "      <td>-82.5</td>\n",
       "      <td>-177.500</td>\n",
       "      <td>1</td>\n",
       "      <td>0</td>\n",
       "      <td>7.630605e-10</td>\n",
       "      <td>-82.25</td>\n",
       "      <td>-177.8125</td>\n",
       "    </tr>\n",
       "    <tr>\n",
       "      <th>3</th>\n",
       "      <td>-82.5</td>\n",
       "      <td>-177.500</td>\n",
       "      <td>1</td>\n",
       "      <td>1</td>\n",
       "      <td>7.630605e-10</td>\n",
       "      <td>-82.25</td>\n",
       "      <td>-177.1875</td>\n",
       "    </tr>\n",
       "    <tr>\n",
       "      <th>4</th>\n",
       "      <td>-82.5</td>\n",
       "      <td>-176.875</td>\n",
       "      <td>0</td>\n",
       "      <td>0</td>\n",
       "      <td>7.596716e-10</td>\n",
       "      <td>-82.75</td>\n",
       "      <td>-177.1875</td>\n",
       "    </tr>\n",
       "  </tbody>\n",
       "</table>\n",
       "</div>"
      ],
      "text/plain": [
       "    lat      lon  latv  lonv         PM2.5  lat_bnds  lon_bnds\n",
       "0 -82.5 -177.500     0     0  7.630605e-10    -82.75 -177.8125\n",
       "1 -82.5 -177.500     0     1  7.630605e-10    -82.75 -177.1875\n",
       "2 -82.5 -177.500     1     0  7.630605e-10    -82.25 -177.8125\n",
       "3 -82.5 -177.500     1     1  7.630605e-10    -82.25 -177.1875\n",
       "4 -82.5 -176.875     0     0  7.596716e-10    -82.75 -177.1875"
      ]
     },
     "execution_count": 5,
     "metadata": {},
     "output_type": "execute_result"
    }
   ],
   "source": [
    "df_PM.head()"
   ]
  },
  {
   "cell_type": "code",
   "execution_count": 6,
   "id": "c0aa43a6-b8dc-4201-9b70-9212da573433",
   "metadata": {},
   "outputs": [],
   "source": [
    "df_RH=df_RH.drop(['lat', 'lon', 'latv', 'lonv'], axis=1, inplace=False )\n",
    "df_PM=df_PM.drop(['lat', 'lon', 'latv', 'lonv'], axis=1, inplace=False )\n",
    "df_temp=df_temp.drop(['lat', 'lon', 'latv', 'lonv'], axis=1, inplace=False )\n",
    "# df_AOD = df_AOD.round()\n",
    "df_AOD = df_AOD.round({'lat_bnds': 0, 'lon_bnds':0})\n",
    "df_PM = df_PM.round({'lat_bnds': 0, 'lon_bnds':0}) \n",
    "df_RH = df_RH.round({'lat_bnds': 0, 'lon_bnds':0}) \n",
    "df_temp = df_temp.round({'lat_bnds': 0, 'lon_bnds':0})\n",
    "df_RH.to_csv(\"outputRH.csv\", index=False)\n",
    "df_PM.to_csv(\"outputPM.csv\", index=False)\n",
    "df_temp.to_csv(\"outputtemp.csv\", index=False)\n",
    "df_AOD1= df_AOD.interpolate(method='polynomial', order=2).bfill()\n",
    "df_AOD1.to_csv(\"outputAOD1.csv\", index=False)"
   ]
  },
  {
   "cell_type": "code",
   "execution_count": 7,
   "id": "61aefd5f-1635-4cf1-89a1-174f17160d1f",
   "metadata": {},
   "outputs": [
    {
     "data": {
      "text/html": [
       "<div>\n",
       "<style scoped>\n",
       "    .dataframe tbody tr th:only-of-type {\n",
       "        vertical-align: middle;\n",
       "    }\n",
       "\n",
       "    .dataframe tbody tr th {\n",
       "        vertical-align: top;\n",
       "    }\n",
       "\n",
       "    .dataframe thead th {\n",
       "        text-align: right;\n",
       "    }\n",
       "</style>\n",
       "<table border=\"1\" class=\"dataframe\">\n",
       "  <thead>\n",
       "    <tr style=\"text-align: right;\">\n",
       "      <th></th>\n",
       "      <th>PM2.5</th>\n",
       "      <th>lat_bnds</th>\n",
       "      <th>lon_bnds</th>\n",
       "    </tr>\n",
       "  </thead>\n",
       "  <tbody>\n",
       "    <tr>\n",
       "      <th>0</th>\n",
       "      <td>7.630605e-10</td>\n",
       "      <td>-83.0</td>\n",
       "      <td>-178.0</td>\n",
       "    </tr>\n",
       "    <tr>\n",
       "      <th>1</th>\n",
       "      <td>7.630605e-10</td>\n",
       "      <td>-83.0</td>\n",
       "      <td>-177.0</td>\n",
       "    </tr>\n",
       "    <tr>\n",
       "      <th>2</th>\n",
       "      <td>7.630605e-10</td>\n",
       "      <td>-82.0</td>\n",
       "      <td>-178.0</td>\n",
       "    </tr>\n",
       "    <tr>\n",
       "      <th>3</th>\n",
       "      <td>7.630605e-10</td>\n",
       "      <td>-82.0</td>\n",
       "      <td>-177.0</td>\n",
       "    </tr>\n",
       "    <tr>\n",
       "      <th>4</th>\n",
       "      <td>7.596716e-10</td>\n",
       "      <td>-83.0</td>\n",
       "      <td>-177.0</td>\n",
       "    </tr>\n",
       "    <tr>\n",
       "      <th>5</th>\n",
       "      <td>7.596716e-10</td>\n",
       "      <td>-83.0</td>\n",
       "      <td>-177.0</td>\n",
       "    </tr>\n",
       "    <tr>\n",
       "      <th>6</th>\n",
       "      <td>7.596716e-10</td>\n",
       "      <td>-82.0</td>\n",
       "      <td>-177.0</td>\n",
       "    </tr>\n",
       "    <tr>\n",
       "      <th>7</th>\n",
       "      <td>7.596716e-10</td>\n",
       "      <td>-82.0</td>\n",
       "      <td>-177.0</td>\n",
       "    </tr>\n",
       "    <tr>\n",
       "      <th>8</th>\n",
       "      <td>7.596385e-10</td>\n",
       "      <td>-83.0</td>\n",
       "      <td>-177.0</td>\n",
       "    </tr>\n",
       "    <tr>\n",
       "      <th>9</th>\n",
       "      <td>7.596385e-10</td>\n",
       "      <td>-83.0</td>\n",
       "      <td>-176.0</td>\n",
       "    </tr>\n",
       "  </tbody>\n",
       "</table>\n",
       "</div>"
      ],
      "text/plain": [
       "          PM2.5  lat_bnds  lon_bnds\n",
       "0  7.630605e-10     -83.0    -178.0\n",
       "1  7.630605e-10     -83.0    -177.0\n",
       "2  7.630605e-10     -82.0    -178.0\n",
       "3  7.630605e-10     -82.0    -177.0\n",
       "4  7.596716e-10     -83.0    -177.0\n",
       "5  7.596716e-10     -83.0    -177.0\n",
       "6  7.596716e-10     -82.0    -177.0\n",
       "7  7.596716e-10     -82.0    -177.0\n",
       "8  7.596385e-10     -83.0    -177.0\n",
       "9  7.596385e-10     -83.0    -176.0"
      ]
     },
     "execution_count": 7,
     "metadata": {},
     "output_type": "execute_result"
    }
   ],
   "source": [
    "df_PM.head(10)"
   ]
  },
  {
   "cell_type": "code",
   "execution_count": 8,
   "id": "6a1768c2-3fa4-416f-91a1-d18ec9a85e42",
   "metadata": {},
   "outputs": [],
   "source": [
    "common_values = set(df_AOD1['lat_bnds']) & set(df_temp['lat_bnds'])"
   ]
  },
  {
   "cell_type": "code",
   "execution_count": 9,
   "id": "df7ff996-4aad-449d-b8d2-e0316d2652aa",
   "metadata": {
    "scrolled": true
   },
   "outputs": [
    {
     "name": "stdout",
     "output_type": "stream",
     "text": [
      "172\n"
     ]
    }
   ],
   "source": [
    "print(len(common_values))"
   ]
  },
  {
   "cell_type": "code",
   "execution_count": 10,
   "id": "7de4e777-9b6f-4f95-b431-bee67a313035",
   "metadata": {},
   "outputs": [
    {
     "name": "stdout",
     "output_type": "stream",
     "text": [
      "(240084, 3) (240084, 3)\n"
     ]
    }
   ],
   "source": [
    "print(df_AOD1.shape, df_temp.shape)"
   ]
  },
  {
   "cell_type": "code",
   "execution_count": 11,
   "id": "b6693bdf-da43-4e02-a9ba-5ad99a6fffdd",
   "metadata": {},
   "outputs": [],
   "source": [
    "# df_inner1=pd.merge(df_AOD1, df_temp, on=['lat_bnds','lon_bnds'], how='inner')\n",
    "# df_inner2=pd.merge(df_PM, df_RH, on=['lat_bnds','lon_bnds'], how='inner')\n"
   ]
  },
  {
   "cell_type": "code",
   "execution_count": 12,
   "id": "56b9b0fa",
   "metadata": {},
   "outputs": [],
   "source": [
    "# Remove duplicates from all DataFrames based on lat_bnds and lon_bnds\n",
    "df_AOD1 = df_AOD1.drop_duplicates(subset=['lat_bnds', 'lon_bnds']).reset_index(drop=True)\n",
    "df_temp = df_temp.drop_duplicates(subset=['lat_bnds', 'lon_bnds']).reset_index(drop=True)\n",
    "df_PM = df_PM.drop_duplicates(subset=['lat_bnds', 'lon_bnds']).reset_index(drop=True)\n",
    "df_RH = df_RH.drop_duplicates(subset=['lat_bnds', 'lon_bnds']).reset_index(drop=True)"
   ]
  },
  {
   "cell_type": "code",
   "execution_count": 13,
   "id": "e12ef20c",
   "metadata": {},
   "outputs": [],
   "source": [
    "# Merge DataFrames after removing duplicates\n",
    "df_inner1 = df_AOD1.merge(df_temp, on=['lat_bnds', 'lon_bnds'], how='inner')\n",
    "df_inner2 = df_PM.merge(df_RH, on=['lat_bnds', 'lon_bnds'], how='inner')\n",
    "df_final = pd.merge(df_inner1, df_inner2, on=['lat_bnds', 'lon_bnds'], how='inner')"
   ]
  },
  {
   "cell_type": "code",
   "execution_count": 14,
   "id": "4f1543e6",
   "metadata": {},
   "outputs": [
    {
     "name": "stdout",
     "output_type": "stream",
     "text": [
      "Shape of df_AOD1: (60544, 3)\n",
      "Shape of df_temp: (60544, 3)\n",
      "Shape of df_PM: (60544, 3)\n",
      "Shape of df_RH: (60544, 3)\n",
      "Shape of df_inner1: (60544, 4)\n",
      "Shape of df_inner2: (60544, 4)\n",
      "Shape of df_final: (60544, 6)\n"
     ]
    }
   ],
   "source": [
    "# Validate the shape of the merged DataFrame\n",
    "print('Shape of df_AOD1:', df_AOD1.shape)\n",
    "print('Shape of df_temp:', df_temp.shape)\n",
    "print('Shape of df_PM:', df_PM.shape)\n",
    "print('Shape of df_RH:', df_RH.shape)\n",
    "print('Shape of df_inner1:', df_inner1.shape)\n",
    "print('Shape of df_inner2:', df_inner2.shape)\n",
    "print('Shape of df_final:', df_final.shape)"
   ]
  },
  {
   "cell_type": "code",
   "execution_count": 15,
   "id": "b604b1bd-e7f5-48b3-8d3b-5a2c94a55bf9",
   "metadata": {},
   "outputs": [],
   "source": [
    "# df_inner1=df_AOD1.merge(df_temp, on=['lat_bnds','lon_bnds'], how='inner')\n",
    "# df_inner2=df_PM.merge(df_RH, on=['lat_bnds','lon_bnds'], how='inner')"
   ]
  },
  {
   "cell_type": "code",
   "execution_count": 16,
   "id": "bae6dac0-48a4-4936-ac34-552ead659f1f",
   "metadata": {},
   "outputs": [],
   "source": [
    "# df_final=pd.merge(df_inner1, df_inner2, on=['lat_bnds','lon_bnds'], how='inner')"
   ]
  },
  {
   "cell_type": "code",
   "execution_count": 17,
   "id": "c118c4e2-a7d0-4d1e-ae7d-0e8cb2470a66",
   "metadata": {},
   "outputs": [],
   "source": [
    "# print(df_inner1.shape, df_inner2.shape, df_final.shape)"
   ]
  },
  {
   "cell_type": "code",
   "execution_count": 18,
   "id": "7a338a46-829c-4c7a-897a-4012a1c6746a",
   "metadata": {
    "scrolled": true
   },
   "outputs": [
    {
     "data": {
      "text/html": [
       "<div>\n",
       "<style scoped>\n",
       "    .dataframe tbody tr th:only-of-type {\n",
       "        vertical-align: middle;\n",
       "    }\n",
       "\n",
       "    .dataframe tbody tr th {\n",
       "        vertical-align: top;\n",
       "    }\n",
       "\n",
       "    .dataframe thead th {\n",
       "        text-align: right;\n",
       "    }\n",
       "</style>\n",
       "<table border=\"1\" class=\"dataframe\">\n",
       "  <thead>\n",
       "    <tr style=\"text-align: right;\">\n",
       "      <th></th>\n",
       "      <th>Aerosol_Optical_Depth(Land)</th>\n",
       "      <th>lat_bnds</th>\n",
       "      <th>lon_bnds</th>\n",
       "      <th>Average_Temperature</th>\n",
       "      <th>PM2.5</th>\n",
       "      <th>Relative_humidity</th>\n",
       "    </tr>\n",
       "  </thead>\n",
       "  <tbody>\n",
       "    <tr>\n",
       "      <th>0</th>\n",
       "      <td>0.823324</td>\n",
       "      <td>-83.0</td>\n",
       "      <td>-178.0</td>\n",
       "      <td>243.11458</td>\n",
       "      <td>7.630605e-10</td>\n",
       "      <td>78.6250</td>\n",
       "    </tr>\n",
       "    <tr>\n",
       "      <th>1</th>\n",
       "      <td>0.823324</td>\n",
       "      <td>-83.0</td>\n",
       "      <td>-177.0</td>\n",
       "      <td>243.11458</td>\n",
       "      <td>7.630605e-10</td>\n",
       "      <td>78.6250</td>\n",
       "    </tr>\n",
       "    <tr>\n",
       "      <th>2</th>\n",
       "      <td>0.823324</td>\n",
       "      <td>-82.0</td>\n",
       "      <td>-178.0</td>\n",
       "      <td>243.11458</td>\n",
       "      <td>7.630605e-10</td>\n",
       "      <td>78.6250</td>\n",
       "    </tr>\n",
       "    <tr>\n",
       "      <th>3</th>\n",
       "      <td>0.823324</td>\n",
       "      <td>-82.0</td>\n",
       "      <td>-177.0</td>\n",
       "      <td>243.11458</td>\n",
       "      <td>7.630605e-10</td>\n",
       "      <td>78.6250</td>\n",
       "    </tr>\n",
       "    <tr>\n",
       "      <th>4</th>\n",
       "      <td>0.823324</td>\n",
       "      <td>-83.0</td>\n",
       "      <td>-176.0</td>\n",
       "      <td>238.50000</td>\n",
       "      <td>7.596385e-10</td>\n",
       "      <td>79.3125</td>\n",
       "    </tr>\n",
       "  </tbody>\n",
       "</table>\n",
       "</div>"
      ],
      "text/plain": [
       "   Aerosol_Optical_Depth(Land)  lat_bnds  lon_bnds  Average_Temperature  \\\n",
       "0                     0.823324     -83.0    -178.0            243.11458   \n",
       "1                     0.823324     -83.0    -177.0            243.11458   \n",
       "2                     0.823324     -82.0    -178.0            243.11458   \n",
       "3                     0.823324     -82.0    -177.0            243.11458   \n",
       "4                     0.823324     -83.0    -176.0            238.50000   \n",
       "\n",
       "          PM2.5  Relative_humidity  \n",
       "0  7.630605e-10            78.6250  \n",
       "1  7.630605e-10            78.6250  \n",
       "2  7.630605e-10            78.6250  \n",
       "3  7.630605e-10            78.6250  \n",
       "4  7.596385e-10            79.3125  "
      ]
     },
     "execution_count": 18,
     "metadata": {},
     "output_type": "execute_result"
    }
   ],
   "source": [
    "df_final.head()"
   ]
  },
  {
   "cell_type": "code",
   "execution_count": 19,
   "id": "e427f0a3-dcbc-48e1-a383-dac5c7d21196",
   "metadata": {},
   "outputs": [
    {
     "name": "stdout",
     "output_type": "stream",
     "text": [
      "<class 'pandas.core.frame.DataFrame'>\n",
      "RangeIndex: 60544 entries, 0 to 60543\n",
      "Data columns (total 6 columns):\n",
      " #   Column                       Non-Null Count  Dtype  \n",
      "---  ------                       --------------  -----  \n",
      " 0   Aerosol_Optical_Depth(Land)  58355 non-null  float64\n",
      " 1   lat_bnds                     60544 non-null  float64\n",
      " 2   lon_bnds                     60544 non-null  float64\n",
      " 3   Average_Temperature          49881 non-null  float64\n",
      " 4   PM2.5                        60544 non-null  float64\n",
      " 5   Relative_humidity            49462 non-null  float64\n",
      "dtypes: float64(6)\n",
      "memory usage: 2.8 MB\n"
     ]
    }
   ],
   "source": [
    "df_final.info()"
   ]
  },
  {
   "cell_type": "code",
   "execution_count": 20,
   "id": "14b68950-82ea-48b0-887b-1de78f09c6d8",
   "metadata": {},
   "outputs": [
    {
     "name": "stdout",
     "output_type": "stream",
     "text": [
      "<class 'pandas.core.frame.DataFrame'>\n",
      "RangeIndex: 60544 entries, 0 to 60543\n",
      "Data columns (total 4 columns):\n",
      " #   Column                       Non-Null Count  Dtype  \n",
      "---  ------                       --------------  -----  \n",
      " 0   Aerosol_Optical_Depth(Land)  58355 non-null  float64\n",
      " 1   lat_bnds                     60544 non-null  float64\n",
      " 2   lon_bnds                     60544 non-null  float64\n",
      " 3   Average_Temperature          49881 non-null  float64\n",
      "dtypes: float64(4)\n",
      "memory usage: 1.8 MB\n"
     ]
    }
   ],
   "source": [
    "df_inner1.info()"
   ]
  },
  {
   "cell_type": "code",
   "execution_count": 21,
   "id": "99bc6ea1-2b95-46d8-836c-2a233f720407",
   "metadata": {},
   "outputs": [
    {
     "name": "stdout",
     "output_type": "stream",
     "text": [
      "<class 'pandas.core.frame.DataFrame'>\n",
      "RangeIndex: 60544 entries, 0 to 60543\n",
      "Data columns (total 4 columns):\n",
      " #   Column             Non-Null Count  Dtype  \n",
      "---  ------             --------------  -----  \n",
      " 0   PM2.5              60544 non-null  float64\n",
      " 1   lat_bnds           60544 non-null  float64\n",
      " 2   lon_bnds           60544 non-null  float64\n",
      " 3   Relative_humidity  49462 non-null  float64\n",
      "dtypes: float64(4)\n",
      "memory usage: 1.8 MB\n"
     ]
    }
   ],
   "source": [
    "df_inner2.info()"
   ]
  },
  {
   "cell_type": "code",
   "execution_count": 22,
   "id": "7bb0735b-a6cf-4d2f-899a-42856779f499",
   "metadata": {},
   "outputs": [],
   "source": [
    "df_final = df_final.loc[df_final['Aerosol_Optical_Depth(Land)'] != 0]"
   ]
  },
  {
   "cell_type": "code",
   "execution_count": 23,
   "id": "667cbdd2-c37d-4dfa-b9ab-a38232f3e4f1",
   "metadata": {},
   "outputs": [],
   "source": [
    "df_final = df_final.loc[df_final['PM2.5'] != 0]"
   ]
  },
  {
   "cell_type": "code",
   "execution_count": 24,
   "id": "58b343e2-59f9-4c05-b2a8-edcbd1e15e66",
   "metadata": {},
   "outputs": [],
   "source": [
    "# df_data1=df_final[['lat_bnds','lon_bnds', 'Aerosol_Optical_Depth(Land)', 'PM2.5', 'Average_Temperature' , 'Relative_humidity']].copy()"
   ]
  },
  {
   "cell_type": "code",
   "execution_count": 25,
   "id": "4ab77d7b-2e34-4b46-a55b-9de290675848",
   "metadata": {},
   "outputs": [],
   "source": [
    "# Rearrange columns in the specified order\n",
    "df_final = df_final[['lat_bnds', 'lon_bnds', 'Aerosol_Optical_Depth(Land)', 'Average_Temperature', 'Relative_humidity', 'PM2.5']]\n",
    "df_final=df_final.dropna()"
   ]
  },
  {
   "cell_type": "code",
   "execution_count": 26,
   "id": "931b6eae-f009-4f08-8a0a-d207e1b59539",
   "metadata": {},
   "outputs": [],
   "source": [
    "df_final.to_csv('Practical_Problem_data_set1.csv', index=False)"
   ]
  }
 ],
 "metadata": {
  "kernelspec": {
   "display_name": "Python 3 (ipykernel)",
   "language": "python",
   "name": "python3"
  },
  "language_info": {
   "codemirror_mode": {
    "name": "ipython",
    "version": 3
   },
   "file_extension": ".py",
   "mimetype": "text/x-python",
   "name": "python",
   "nbconvert_exporter": "python",
   "pygments_lexer": "ipython3",
   "version": "3.12.2"
  }
 },
 "nbformat": 4,
 "nbformat_minor": 5
}
