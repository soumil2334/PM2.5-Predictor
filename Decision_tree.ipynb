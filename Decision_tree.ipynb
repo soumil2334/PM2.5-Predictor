{
 "cells": [
  {
   "cell_type": "code",
   "execution_count": 1,
   "id": "c9c10673-3828-4bc7-8015-7f938b98dc3e",
   "metadata": {},
   "outputs": [],
   "source": [
    "# !pip install numpy"
   ]
  },
  {
   "cell_type": "code",
   "execution_count": 2,
   "id": "84797c23-e29d-4560-881c-1653af02a2f0",
   "metadata": {},
   "outputs": [],
   "source": [
    "# !pip install scipy"
   ]
  },
  {
   "cell_type": "code",
   "execution_count": 3,
   "id": "a1f1c568-c9d8-49a9-9c50-7f7ae57ecb12",
   "metadata": {},
   "outputs": [],
   "source": [
    "# !pip install scikit-learn"
   ]
  },
  {
   "cell_type": "code",
   "execution_count": 4,
   "id": "c63e032f-67aa-43e2-a6b4-44d2317f9cd0",
   "metadata": {},
   "outputs": [],
   "source": [
    "import pandas as pd\n",
    "import numpy as np\n",
    "from sklearn.model_selection import train_test_split\n",
    "from sklearn.tree import DecisionTreeClassifier, DecisionTreeRegressor\n",
    "from sklearn.metrics import accuracy_score, mean_squared_error\n",
    "from sklearn.metrics import mean_absolute_error\n",
    "from sklearn.metrics import mean_squared_error\n",
    "from sklearn.metrics import r2_score\n",
    "from sklearn.ensemble import RandomForestRegressor"
   ]
  },
  {
   "cell_type": "code",
   "execution_count": 5,
   "id": "6005f9a9-da38-481f-95ee-295436924e00",
   "metadata": {},
   "outputs": [],
   "source": [
    "df = pd.read_csv(\"Practical_Problem_data_set1.csv\")\n",
    "df['PM2.5']=df['PM2.5']*10**10"
   ]
  },
  {
   "cell_type": "code",
   "execution_count": 6,
   "id": "58bae6a5-e962-4c9c-b4cc-02f1cf4f7369",
   "metadata": {},
   "outputs": [],
   "source": [
    "X = df.iloc[:, :5]  # First 5 columns as features\n",
    "y = df.iloc[:, 5]   # 6th column as target\n"
   ]
  },
  {
   "cell_type": "code",
   "execution_count": 7,
   "id": "2f6ff948-98ed-4695-841b-473ab485d1ae",
   "metadata": {},
   "outputs": [
    {
     "name": "stdout",
     "output_type": "stream",
     "text": [
      "       lat_bnds  lon_bnds  Aerosol_Optical_Depth(Land)  Average_Temperature  \\\n",
      "7826      -51.0     -26.0                     0.106191            276.10684   \n",
      "8242      -50.0      38.0                     0.047758            277.15613   \n",
      "41547      63.0      63.0                     0.111721            273.21050   \n",
      "21836      -7.0    -127.0                     0.062552            298.19110   \n",
      "4015      -62.0      35.0                    -1.322872            266.82660   \n",
      "...         ...       ...                          ...                  ...   \n",
      "11284     -41.0     -48.0                     0.051025            284.83360   \n",
      "44732      74.0      83.0                     0.114042            263.69043   \n",
      "38158      51.0     -61.0                     0.208759            280.69565   \n",
      "860       -73.0    -159.0                     1.483944            261.78320   \n",
      "15795     -28.0      51.0                     0.141844            292.44467   \n",
      "\n",
      "       Relative_humidity  \n",
      "7826           86.539310  \n",
      "8242           85.114800  \n",
      "41547          80.032990  \n",
      "21836          78.754510  \n",
      "4015           85.500000  \n",
      "...                  ...  \n",
      "11284          79.459120  \n",
      "44732          89.547830  \n",
      "38158          77.459854  \n",
      "860            77.645836  \n",
      "15795          82.261630  \n",
      "\n",
      "[23628 rows x 5 columns]\n"
     ]
    }
   ],
   "source": [
    "X_train, X_test, y_train, y_test = train_test_split(X, y, test_size=0.5, random_state=42)\n",
    "print(X_train)\n"
   ]
  },
  {
   "cell_type": "code",
   "execution_count": 8,
   "id": "14694caa-fe6a-478b-a6f4-630ef92ca90d",
   "metadata": {},
   "outputs": [
    {
     "name": "stdout",
     "output_type": "stream",
     "text": [
      "7826     115.175755\n",
      "8242     126.547452\n",
      "41547     48.715410\n",
      "21836     74.042690\n",
      "4015      85.262147\n",
      "            ...    \n",
      "11284     92.082627\n",
      "44732     37.651989\n",
      "38158     54.482276\n",
      "860       32.851245\n",
      "15795     72.987355\n",
      "Name: PM2.5, Length: 23628, dtype: float64\n"
     ]
    }
   ],
   "source": [
    "print(y_train)"
   ]
  },
  {
   "cell_type": "code",
   "execution_count": 9,
   "id": "49e4b513-041d-4bd6-99ca-9cdaddc53c3e",
   "metadata": {},
   "outputs": [
    {
     "name": "stdout",
     "output_type": "stream",
     "text": [
      "40101    124.594855\n",
      "46170     18.461667\n",
      "23090     57.773099\n",
      "40171     70.285203\n",
      "37759    222.146045\n",
      "            ...    \n",
      "40610     50.925238\n",
      "46608     38.267573\n",
      "19941    105.098557\n",
      "23167    117.275778\n",
      "9201     107.559222\n",
      "Name: PM2.5, Length: 23628, dtype: float64\n"
     ]
    }
   ],
   "source": [
    "print(y_test)"
   ]
  },
  {
   "cell_type": "code",
   "execution_count": 10,
   "id": "156d8f03-3af9-4e25-ad93-96df5674ae57",
   "metadata": {},
   "outputs": [],
   "source": [
    "model = DecisionTreeRegressor()\n",
    "model.fit(X_train, y_train)\n",
    "model2 = RandomForestRegressor(n_estimators=100, random_state=42)\n",
    "model2.fit(X_train, y_train)\n",
    "y_pred2 = model.predict(X_test)"
   ]
  },
  {
   "cell_type": "code",
   "execution_count": 11,
   "id": "94654f65-d0d1-46e6-a95e-d906d14ad84d",
   "metadata": {},
   "outputs": [],
   "source": [
    "y_pred = model.predict(X_test)\n"
   ]
  },
  {
   "cell_type": "code",
   "execution_count": 12,
   "id": "39942c3c-da44-4594-bc0b-ecdb5a35fcbb",
   "metadata": {},
   "outputs": [
    {
     "name": "stdout",
     "output_type": "stream",
     "text": [
      "[124.3449911   18.18275116  57.75142738 ... 104.24673481 121.93159766\n",
      " 107.28607769] 40101    124.594855\n",
      "46170     18.461667\n",
      "23090     57.773099\n",
      "40171     70.285203\n",
      "37759    222.146045\n",
      "            ...    \n",
      "40610     50.925238\n",
      "46608     38.267573\n",
      "19941    105.098557\n",
      "23167    117.275778\n",
      "9201     107.559222\n",
      "Name: PM2.5, Length: 23628, dtype: float64\n"
     ]
    }
   ],
   "source": [
    "print(y_pred, y_test)"
   ]
  },
  {
   "cell_type": "code",
   "execution_count": 13,
   "id": "c31fa4bf-064e-4ea8-b37e-7cc719fba738",
   "metadata": {},
   "outputs": [
    {
     "name": "stdout",
     "output_type": "stream",
     "text": [
      "Mean Squared Error: 1261.12\n"
     ]
    }
   ],
   "source": [
    "mse = mean_squared_error(y_test, y_pred)\n",
    "print(f\"Mean Squared Error: {mse:.2f}\")"
   ]
  },
  {
   "cell_type": "code",
   "execution_count": 14,
   "id": "5d48dbe6-bb92-46e4-a95c-44ecdbf0429c",
   "metadata": {},
   "outputs": [
    {
     "name": "stdout",
     "output_type": "stream",
     "text": [
      "Mean Absolute Error (MAE): 8.5693\n",
      "R² Score: 0.8583\n"
     ]
    }
   ],
   "source": [
    "mae = mean_absolute_error(y_test, y_pred)\n",
    "print(f\"Mean Absolute Error (MAE): {mae:.4f}\")\n",
    "# rmse = mean_squared_error(y_test, y_pred, squared=False)\n",
    "# print(f\"Root Mean Squared Error (RMSE): {rmse:.4f}\")\n",
    "r2 = r2_score(y_test, y_pred)\n",
    "print(f\"R² Score: {r2:.4f}\")"
   ]
  },
  {
   "cell_type": "code",
   "execution_count": 15,
   "id": "923af2fd-fc4b-44b3-ae13-c89a6beb319e",
   "metadata": {},
   "outputs": [
    {
     "name": "stdout",
     "output_type": "stream",
     "text": [
      "Mean Absolute Error (MAE): 8.5693\n"
     ]
    }
   ],
   "source": [
    "mae2 = mean_absolute_error(y_test, y_pred2)\n",
    "print(f\"Mean Absolute Error (MAE): {mae2:.4f}\")"
   ]
  },
  {
   "cell_type": "code",
   "execution_count": 19,
   "id": "915bfee3-35c3-4ca8-aa1e-565778c2ae95",
   "metadata": {},
   "outputs": [
    {
     "ename": "SyntaxError",
     "evalue": "incomplete input (399209875.py, line 2)",
     "output_type": "error",
     "traceback": [
      "\u001b[1;36m  Cell \u001b[1;32mIn[19], line 2\u001b[1;36m\u001b[0m\n\u001b[1;33m    print(\"Accuracy:\", clf.score(y_test, y_pred)\u001b[0m\n\u001b[1;37m                                                ^\u001b[0m\n\u001b[1;31mSyntaxError\u001b[0m\u001b[1;31m:\u001b[0m incomplete input\n"
     ]
    }
   ],
   "source": [
    "from sklearn.metrics import precision_score, recall_score, f1_score, clf\n",
    "print(\"Accuracy:\", clf.score(y_test, y_pred)"
   ]
  },
  {
   "cell_type": "code",
   "execution_count": null,
   "id": "c3ed9c09-4602-45ee-a2f8-004472ddd724",
   "metadata": {},
   "outputs": [],
   "source": []
  },
  {
   "cell_type": "code",
   "execution_count": null,
   "id": "58670d00-3368-457f-a481-a7e2fb32c105",
   "metadata": {},
   "outputs": [],
   "source": []
  }
 ],
 "metadata": {
  "kernelspec": {
   "display_name": "Python 3 (ipykernel)",
   "language": "python",
   "name": "python3"
  },
  "language_info": {
   "codemirror_mode": {
    "name": "ipython",
    "version": 3
   },
   "file_extension": ".py",
   "mimetype": "text/x-python",
   "name": "python",
   "nbconvert_exporter": "python",
   "pygments_lexer": "ipython3",
   "version": "3.12.2"
  }
 },
 "nbformat": 4,
 "nbformat_minor": 5
}
