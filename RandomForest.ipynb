{
 "cells": [
  {
   "cell_type": "code",
   "execution_count": 1,
   "id": "fb66f177-c349-4b5e-ad54-fa0d09b0f0c1",
   "metadata": {},
   "outputs": [],
   "source": [
    "import pandas as pd\n",
    "from sklearn.model_selection import train_test_split\n",
    "from sklearn.ensemble import RandomForestRegressor\n",
    "from sklearn.metrics import mean_squared_error"
   ]
  },
  {
   "cell_type": "code",
   "execution_count": 2,
   "id": "43f9a4f4-a570-44dc-88ea-4f90bb6ac92d",
   "metadata": {},
   "outputs": [],
   "source": [
    "df = pd.read_csv('Practical_Problem_data_set1.csv')\n",
    "df['PM2.5']=df['PM2.5']*10**10\n",
    "df.columns = df.columns.str.replace('[^A-Za-z0-9_]', '', regex=True)"
   ]
  },
  {
   "cell_type": "code",
   "execution_count": 3,
   "id": "eeb654b5-a3f2-46d0-b0d9-73213945b904",
   "metadata": {},
   "outputs": [
    {
     "name": "stdout",
     "output_type": "stream",
     "text": [
      "Index(['lat_bnds', 'lon_bnds', 'Aerosol_Optical_DepthLand',\n",
      "       'Average_Temperature', 'Relative_humidity', 'PM25'],\n",
      "      dtype='object')\n"
     ]
    }
   ],
   "source": [
    "print(df.columns)\n",
    "df_sorted = df.sort_values(by=df.columns[:5].tolist())"
   ]
  },
  {
   "cell_type": "code",
   "execution_count": 4,
   "id": "569ca79c-c6c7-4336-92fc-afcdc299f88d",
   "metadata": {},
   "outputs": [],
   "source": [
    "X = df_sorted.iloc[:, :5]\n",
    "y = df_sorted.iloc[:, 5] \n",
    "\n",
    "X_train, X_test, y_train, y_test = train_test_split(X, y, test_size=0.2, random_state=42)\n",
    "model = RandomForestRegressor(n_estimators=100, random_state=42)\n",
    "\n",
    "model.fit(X_train, y_train)\n",
    "y_pred = model.predict(X_test)"
   ]
  },
  {
   "cell_type": "code",
   "execution_count": 5,
   "id": "7f420958-80fa-449a-a469-5acd85d79db6",
   "metadata": {},
   "outputs": [
    {
     "name": "stdout",
     "output_type": "stream",
     "text": [
      "Mean Squared Error (MSE): 410.7790\n",
      "R² Score: 0.9490\n"
     ]
    }
   ],
   "source": [
    "mse = mean_squared_error(y_test, y_pred)\n",
    "print(f\"Mean Squared Error (MSE): {mse:.4f}\")\n",
    "r2 = model.score(X_test, y_test)\n",
    "print(f\"R² Score: {r2:.4f}\")"
   ]
  },
  {
   "cell_type": "code",
   "execution_count": 6,
   "id": "2ef53061-d50c-499e-9762-cd235d0f4400",
   "metadata": {},
   "outputs": [],
   "source": [
    "import pickle\n",
    "with open('random_forest_pm25_model.pkl', 'wb') as f:\n",
    "    pickle.dump(model, f)"
   ]
  },
  {
   "cell_type": "code",
   "execution_count": 7,
   "id": "2f1d0c02-aa73-40fe-a5af-8f12236be48b",
   "metadata": {},
   "outputs": [],
   "source": [
    "import pickle\n",
    "with open('random_forest_pm25_model.pkl', 'wb') as f:\n",
    "    pickle.dump(model, f)\n"
   ]
  }
 ],
 "metadata": {
  "kernelspec": {
   "display_name": "Python 3 (ipykernel)",
   "language": "python",
   "name": "python3"
  },
  "language_info": {
   "codemirror_mode": {
    "name": "ipython",
    "version": 3
   },
   "file_extension": ".py",
   "mimetype": "text/x-python",
   "name": "python",
   "nbconvert_exporter": "python",
   "pygments_lexer": "ipython3",
   "version": "3.12.2"
  }
 },
 "nbformat": 4,
 "nbformat_minor": 5
}
